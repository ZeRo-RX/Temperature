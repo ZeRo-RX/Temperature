{
 "cells": [
  {
   "cell_type": "markdown",
   "id": "3e533379",
   "metadata": {},
   "source": [
    "# importing library"
   ]
  },
  {
   "cell_type": "code",
   "execution_count": 2,
   "id": "c04df842",
   "metadata": {},
   "outputs": [],
   "source": [
    "from sklearn.metrics import r2_score\n",
    "from sklearn import linear_model\n",
    "import matplotlib.pyplot as plt\n",
    "import pandas as pd\n",
    "import pylab as pl\n",
    "import numpy as np\n",
    "%matplotlib inline"
   ]
  },
  {
   "cell_type": "markdown",
   "id": "fee3436e",
   "metadata": {},
   "source": [
    "# Downloading Data\n",
    "\n",
    "To download the data, we will use !wget to download it from IBM Object Storage."
   ]
  },
  {
   "cell_type": "code",
   "execution_count": 3,
   "id": "5e0d77d6",
   "metadata": {},
   "outputs": [
    {
     "data": {
      "text/html": [
       "<div>\n",
       "<style scoped>\n",
       "    .dataframe tbody tr th:only-of-type {\n",
       "        vertical-align: middle;\n",
       "    }\n",
       "\n",
       "    .dataframe tbody tr th {\n",
       "        vertical-align: top;\n",
       "    }\n",
       "\n",
       "    .dataframe thead th {\n",
       "        text-align: right;\n",
       "    }\n",
       "</style>\n",
       "<table border=\"1\" class=\"dataframe\">\n",
       "  <thead>\n",
       "    <tr style=\"text-align: right;\">\n",
       "      <th></th>\n",
       "      <th>date;tmin;tmax;prcp;snow;snwd;awnd</th>\n",
       "    </tr>\n",
       "  </thead>\n",
       "  <tbody>\n",
       "    <tr>\n",
       "      <th>0</th>\n",
       "      <td>2017-01-09;9;31;0.0;0.0;1.2;2.46</td>\n",
       "    </tr>\n",
       "    <tr>\n",
       "      <th>1</th>\n",
       "      <td>2017-01-11;40;57;0.0;0.0;0.0;6.04</td>\n",
       "    </tr>\n",
       "    <tr>\n",
       "      <th>2</th>\n",
       "      <td>2017-01-19;36;63;0.0;0.0;0.0;1.34</td>\n",
       "    </tr>\n",
       "    <tr>\n",
       "      <th>3</th>\n",
       "      <td>2017-01-20;46;59;0.09;0.0;0.0;2.91</td>\n",
       "    </tr>\n",
       "    <tr>\n",
       "      <th>4</th>\n",
       "      <td>2017-01-24;41;63;0.0;0.0;0.0;6.04</td>\n",
       "    </tr>\n",
       "    <tr>\n",
       "      <th>5</th>\n",
       "      <td>2017-01-26;43;70;0.06;0.0;0.0;13.42</td>\n",
       "    </tr>\n",
       "    <tr>\n",
       "      <th>6</th>\n",
       "      <td>2017-01-30;30;46;0.0;0.0;0.0;6.26</td>\n",
       "    </tr>\n",
       "    <tr>\n",
       "      <th>7</th>\n",
       "      <td>2017-02-06;31;68;0.0;0.0;0.0;4.7</td>\n",
       "    </tr>\n",
       "    <tr>\n",
       "      <th>8</th>\n",
       "      <td>2017-02-10;26;51;0.0;0.0;0.0;6.71</td>\n",
       "    </tr>\n",
       "    <tr>\n",
       "      <th>9</th>\n",
       "      <td>2017-02-12;58;83;0.05;0.0;0.0;11.41</td>\n",
       "    </tr>\n",
       "    <tr>\n",
       "      <th>10</th>\n",
       "      <td>2017-02-16;32;53;0.0;0.0;0.0;6.71</td>\n",
       "    </tr>\n",
       "  </tbody>\n",
       "</table>\n",
       "</div>"
      ],
      "text/plain": [
       "     date;tmin;tmax;prcp;snow;snwd;awnd\n",
       "0      2017-01-09;9;31;0.0;0.0;1.2;2.46\n",
       "1     2017-01-11;40;57;0.0;0.0;0.0;6.04\n",
       "2     2017-01-19;36;63;0.0;0.0;0.0;1.34\n",
       "3    2017-01-20;46;59;0.09;0.0;0.0;2.91\n",
       "4     2017-01-24;41;63;0.0;0.0;0.0;6.04\n",
       "5   2017-01-26;43;70;0.06;0.0;0.0;13.42\n",
       "6     2017-01-30;30;46;0.0;0.0;0.0;6.26\n",
       "7      2017-02-06;31;68;0.0;0.0;0.0;4.7\n",
       "8     2017-02-10;26;51;0.0;0.0;0.0;6.71\n",
       "9   2017-02-12;58;83;0.05;0.0;0.0;11.41\n",
       "10    2017-02-16;32;53;0.0;0.0;0.0;6.71"
      ]
     },
     "execution_count": 3,
     "metadata": {},
     "output_type": "execute_result"
    }
   ],
   "source": [
    "df = pd.read_csv(\"Data/rdu-weather-history.csv\")\n",
    "\n",
    "# take a look at the dataset\n",
    "df.head(11)\n",
    "#df.describe()"
   ]
  },
  {
   "cell_type": "code",
   "execution_count": null,
   "id": "3ae752be",
   "metadata": {},
   "outputs": [],
   "source": []
  }
 ],
 "metadata": {
  "kernelspec": {
   "display_name": "Python 3 (ipykernel)",
   "language": "python",
   "name": "python3"
  },
  "language_info": {
   "codemirror_mode": {
    "name": "ipython",
    "version": 3
   },
   "file_extension": ".py",
   "mimetype": "text/x-python",
   "name": "python",
   "nbconvert_exporter": "python",
   "pygments_lexer": "ipython3",
   "version": "3.11.3"
  }
 },
 "nbformat": 4,
 "nbformat_minor": 5
}
